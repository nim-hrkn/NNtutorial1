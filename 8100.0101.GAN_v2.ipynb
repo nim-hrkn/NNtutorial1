{
 "cells": [
  {
   "cell_type": "markdown",
   "id": "85c7154c-d94d-47d5-98fb-bd49e3b0b81c",
   "metadata": {},
   "source": [
    "\n"
   ]
  },
  {
   "cell_type": "markdown",
   "id": "c66bae67-4d13-4ece-b74e-3bc2ef7337d1",
   "metadata": {},
   "source": [
    "## GAN\n",
    "\n",
    "```prompt\n",
    "プロンプト「\n",
    "# 私とあなた\n",
    "私は機械学習手法の初心者です。\n",
    "あなたは機械学習手法のエキスパートです。初心者に優しく教えることができます。\n",
    "# 依頼\n",
    "GANのアルゴリズムを教えてください。\n",
    "」\n",
    "```"
   ]
  },
  {
   "cell_type": "markdown",
   "id": "25960e89-1d71-4071-8dde-4f0ef36db818",
   "metadata": {},
   "source": [
    "---（回答）---\n",
    "\n",
    "GAN（Generative Adversarial Network、生成対向ネットワーク）は、機械学習と深層学習の分野で使用されるアルゴリズムの一つです。以下に、GANの基本的な概念を初心者に優しく説明します。\n",
    "\n",
    "### GANの構成要素\n",
    "\n",
    "GANは主に二つのニューラルネットワークで構成されています：\n",
    "\n",
    "1. **ジェネレーター（Generator）**:\n",
    "   - ノイズ（ランダムなデータ）を入力として受け取り、そこから現実的に見えるデータ（例えば、画像）を生成します。\n",
    "   - 目指すのは、本物そっくりのデータを作り出すことです。\n",
    "\n",
    "2. **ディスクリミネーター（Discriminator）**:\n",
    "   - ジェネレーターが生成したデータと、本物のデータを区別する役割を果たします。\n",
    "   - ジェネレーターが生成したデータを「偽物」と、本物のデータを「本物」として分類するようにトレーニングされます。\n",
    "\n",
    "### GANの学習プロセス\n",
    "\n",
    "- GANの学習はゼロサムゲームの概念に似ています。ジェネレーターとディスクリミネーターは対立する関係にあります。\n",
    "- **ジェネレーターは、ディスクリミネーターをだますことを目的**に改善します。\n",
    "- **ディスクリミネーターは、本物のデータと偽物のデータを正確に区別するように改善**します。\n",
    "\n",
    "### ステップ\n",
    "\n",
    "1. ディスクリミネーターは、実際のデータとジェネレーターの生成したデータを用いて、本物と偽物を区別することを学びます。\n",
    "2. ジェネレーターは、ディスクリミネーターを騙すためにデータを改善していきます。偽物のデータが本物のように見えるほど、ジェネレーターは上手くなるわけです。\n",
    "\n",
    "### 目的\n",
    "\n",
    "GANの目的は、ジェネレーターが最終的にディスクリミネーターをだまして、本物と偽物のデータを区別できなくなるくらい優れた偽データを作成することです。\n",
    "\n",
    "これは、画像の生成や補完、データの合成など、さまざまな応用に使用され、クリエイティブな作品制作などでも注目されています。\n",
    "\n",
    "このように、GANは深層学習アルゴリズムの楽しい一面を体験するための非常にエキサイティングなツールです。興味を持ったら、実際にシンプルなGANをコーディングしてみると理解が深まるかもしれません。\n",
    "\n",
    "---（回答ここまで）---\n",
    "\n",
    "\n"
   ]
  },
  {
   "cell_type": "markdown",
   "id": "ff3dbffb-f9dd-4039-8802-e1d24e4235ad",
   "metadata": {},
   "source": [
    "```prompt\n",
    "プロンプト「\n",
    "学習プロセスを数式で教えてください。\n",
    "」\n",
    "```"
   ]
  },
  {
   "cell_type": "markdown",
   "id": "db041246-a743-4840-84fe-008334835ed0",
   "metadata": {},
   "source": [
    "---（回答）---\n",
    "\n",
    "GANの学習プロセスは、ジェネレーターとディスクリミネーターという2つのモデル間を、競争させる形で行われます。以下に、それぞれのモデルに対して使用される基本的な数式を示します。\n",
    "\n",
    "### GANの損失関数\n",
    "\n",
    "GANの目的は、次の形式のミニマックスゲームとして表されます：\n",
    "\n",
    "$$\n",
    "\\min_G \\max_D V(D, G) = \\mathbb{E}_{x \\sim p_{\\text{data}}(x)}[\\log D(x)] + \\mathbb{E}_{z \\sim p_z(z)}[\\log(1 - D(G(z)))]\n",
    "$$\n",
    "\n",
    "ここで、\n",
    "\n",
    "- $ G $ はジェネレーターです。ランダムノイズ $ z $ から偽データ $ G(z) $ を生成します。\n",
    "- $ D $ はディスクリミネーターです。入力データが本物のデータ $ x $ かジェネレーターからの生成データ $ G(z) $ かを判別します。\n",
    "- $ p_{\\text{data}} $ は本物のデータの分布を示します。\n",
    "- $ p_z(z) $ はジェネレーターの入力として使用するランダムノイズの分布です（一般的にガウシアン分布や均一分布）。\n",
    "\n",
    "### ステップ\n",
    "\n",
    "1. **ディスクリミネーターの更新**:\n",
    "    - ディスクリミネーターは、本物のデータ $ x $ に対して高い確率を出力し、ジェネレーターによって生成されたデータ $ G(z) $ に対して低い確率を出力することを学習します。\n",
    "    - 損失関数： $-(\\mathbb{E}_{x \\sim p_{\\text{data}}(x)}[\\log D(x)] + \\mathbb{E}_{z \\sim p_z(z)}[\\log(1 - D(G(z)))])$\n",
    "\n",
    "2. **ジェネレーターの更新**:\n",
    "    - ジェネレーターは、ディスクリミネーターをだますために生成したデータが本物と区別できないようにすることを目指します。\n",
    "    - 損失関数：$\\mathbb{E}_{z \\sim p_z(z)}[\\log(1 - D(G(z)))]$\n",
    "    - 実際のトレーニングでの安定性のために、以下の損失関数を最大化することが一般です．$-\\mathbb{E}_{z \\sim p{z}(z)}[\\log D(G(z))] $\n",
    "\n",
    "3. **最適化**:\n",
    "    - ジェネレーターとディスクリミネーターを交互に更新し、ジェネレーターの偽造能力が向上する一方でディスクリミネーターがそれに対抗するよう学習します。\n",
    "\n",
    "### 直感的な理解\n",
    "\n",
    "- ディスクリミネーター $ D $ が出す確率が、真実のデータから来たものである確率になるように学習を行い、一方、ジェネレーター $ G $ は、偽データをディスクリミネーター $ D $ に本物と思わせるように調整を行います。\n",
    "- この形式の学習で、最終的にはジェネレーターがディスクリミネーターをだましてしまうような高品質な偽データを生成することを狙います。\n",
    "\n",
    "GANが収束すると、それはジェネレーターが非常に現実的なサンプルを生成し、ディスクリミネーターがそれを本物と区別できなくなるときです。学習の過程は実際にはとても複雑で、適切なバランスを見つけるのが課題です。\n",
    "\n",
    "---（回答ここまで）---\n",
    "\n",
    "よく損失関数のマイナスを間違えます．\n",
    "\n"
   ]
  },
  {
   "cell_type": "markdown",
   "id": "308b8f9c-5e1c-448c-98c3-74be78eb95d2",
   "metadata": {},
   "source": [
    "なお，$\\mathbb{E}$は確率分布がある時の期待値です．\n",
    "\n",
    "$$ -\\mathbb{E}_{x \\sim p_{\\text{data}}(x)}[\\log D(x)] = -\\sum_x p_{\\text{data}}(x) \\log D(x) $$\n",
    "のことです．\n",
    "確率分布$p_{\\text{data}}(x)$が全てのxに対して等しい値とすると，\n",
    "$ - \\text{constant} \\sum_x \\log D(x)$となります．\n"
   ]
  },
  {
   "cell_type": "markdown",
   "id": "3365c085-8c7a-49a8-b250-beb17aa46cb6",
   "metadata": {},
   "source": [
    "\n",
    "ディスクリミネーターの損失関数とジェネレーターの損失関数があります．\n",
    "数式，及び直感的理解「ディスクリミネーター $ D $ が出す確率が、真実のデータから来たものである確率になるように学習を行い、一方、ジェネレーター $ G $ は、偽データをディスクリミネーター $ D $ に本物と思わせるように調整を行いう」という部分が，具体的に何をする分からないかもしれません．\n",
    "\n",
    "\n",
    "プロンプトにより回答がかなり，変わります．\n",
    "\n",
    "```\n",
    "プロンプト「\n",
    "GANの識別モデルは、実画像を「本物」として、生成モデルが生成した画像を「偽物」として識別するために訓練するというのを詳しく説明してください．\n",
    "」\n",
    "```\n",
    "\n",
    "---（回答）---\n",
    "\n",
    "識別器は\n",
    "1. ラベルが「1」である本物の画像を本物と識別させます．このために識別器の出力がラベル「1」に近くなるように訓練します．識別器の出力と正解ラベルが損失関数に使われます．\n",
    "2. ラベルが「1」から生成した偽物の画像を偽物（ラベル「0」）と識別させます．このために識別器の出力がラベル「0」に近くなるように訓練します．識別器の出力と不正解ラベルが損失関数に使われます．\n",
    "\n",
    "生成器の訓練でもまず識別は識別機を用います．\n",
    "1. ノイズベクトルを生成器に入力し画像を生成し，本物と識別させます．「本物と識別させます」というのは，識別器の出力がラベル「１」に近くなるように訓練します．識別器の出力と正解ラベルが損失関数に使われます．\n",
    "\n",
    "---（回答ここまで）---"
   ]
  },
  {
   "cell_type": "markdown",
   "id": "1e0ee41c-d4ca-4448-9ab4-7873d5a03951",
   "metadata": {},
   "source": [
    "\n",
    "だいたい損失関数が分かったと思います．\n",
    "ソースコードを生成します．\n"
   ]
  },
  {
   "cell_type": "markdown",
   "id": "56fa43f0-a47b-4dfc-a1a4-8e78aab5974b",
   "metadata": {},
   "source": [
    "```\n",
    "プロンプト「\n",
    "# あなた\n",
    "あなたは機械学習手法のエキスパートです。\n",
    "\n",
    "# 依頼\n",
    "GANプログラムをPythonで作ってください。\n",
    "以下の事項を守ってください。\n",
    "\n",
    "# Python packageの条件\n",
    "pytorchを用いてください。\n",
    "torchvisionを用いないでください。\n",
    "GPUは用いません。CPUを用います。\n",
    "\n",
    "# ニューラルネットワーク\n",
    "ニューラルネットワークは各層で活性化関数を用いてください。\n",
    "ニューラルネットワークの隠れ層は２層にしてください。\n",
    "Discriminatorはdropoutを使ってください。\n",
    "元画像が(8,8)のサイズであることを考慮してニューラルネットワークの隠れ層のノード数を決めてください。\n",
    "\n",
    "# 訓練データ，テストデータ，新規データ\n",
    "scikit-learnの手書き数字データセットを用います。\n",
    "データセットはsklearn.datasets.digits関数で取得してください。\n",
    "データセットの80％を訓練データ，20%をテストデータとします。\n",
    "\n",
    "# 学習過程\n",
    "学習中のGeneratorの画像を10表示してください。\n",
    "学習中の損失関数をテキストで表示してください。\n",
    "\n",
    "# 学習後\n",
    "学習後に以下を行ってください。\n",
    "学習中の損失関数を図示してください。縦軸はlogスケールとしてください。\n",
    "訓練データ，テストデータ，新規データに対して分類評価を行い，accuracyとconfusion matrixを表示しくてださい。\n",
    "」\n",
    "```\n"
   ]
  },
  {
   "cell_type": "markdown",
   "id": "f1e875ab-2f9b-4c0d-a019-196da765b0df",
   "metadata": {},
   "source": [
    "\n",
    "## GANのコード\n",
    "\n",
    "以下は生成されたコードをまとめ直した．\n"
   ]
  },
  {
   "cell_type": "code",
   "execution_count": 1,
   "id": "45f2f361-c010-4852-bde4-59fde85f136b",
   "metadata": {},
   "outputs": [
    {
     "name": "stdout",
     "output_type": "stream",
     "text": [
      "Epoch [20/200] | Loss D: 0.6782 | Loss G: 2.1152\n"
     ]
    },
    {
     "data": {
      "image/png": "[encoded data removed]",
      "text/plain": [
       "<Figure size 640x480 with 10 Axes>"
      ]
     },
     "metadata": {},
     "output_type": "display_data"
    },
    {
     "name": "stdout",
     "output_type": "stream",
     "text": [
      "Epoch [40/200] | Loss D: 0.7196 | Loss G: 2.0734\n"
     ]
    },
    {
     "data": {
      "image/png": "[encoded data removed]",
      "text/plain": [
       "<Figure size 640x480 with 10 Axes>"
      ]
     },
     "metadata": {},
     "output_type": "display_data"
    },
    {
     "name": "stdout",
     "output_type": "stream",
     "text": [
      "Epoch [60/200] | Loss D: 0.8523 | Loss G: 1.6864\n"
     ]
    },
    {
     "data": {
      "image/png": "[encoded data removed]",
      "text/plain": [
       "<Figure size 640x480 with 10 Axes>"
      ]
     },
     "metadata": {},
     "output_type": "display_data"
    },
    {
     "name": "stdout",
     "output_type": "stream",
     "text": [
      "Epoch [80/200] | Loss D: 0.9184 | Loss G: 1.5987\n"
     ]
    },
    {
     "data": {
      "image/png": "[encoded data removed]",
      "text/plain": [
       "<Figure size 640x480 with 10 Axes>"
      ]
     },
     "metadata": {},
     "output_type": "display_data"
    },
    {
     "name": "stdout",
     "output_type": "stream",
     "text": [
      "Epoch [100/200] | Loss D: 0.9091 | Loss G: 1.5085\n"
     ]
    },
    {
     "data": {
      "image/png": "[encoded data removed]",
      "text/plain": [
       "<Figure size 640x480 with 10 Axes>"
      ]
     },
     "metadata": {},
     "output_type": "display_data"
    },
    {
     "name": "stdout",
     "output_type": "stream",
     "text": [
      "Epoch [120/200] | Loss D: 0.8492 | Loss G: 1.6063\n"
     ]
    },
    {
     "data": {
      "image/png": "[encoded data removed]",
      "text/plain": [
       "<Figure size 640x480 with 10 Axes>"
      ]
     },
     "metadata": {},
     "output_type": "display_data"
    },
    {
     "name": "stdout",
     "output_type": "stream",
     "text": [
      "Epoch [140/200] | Loss D: 0.9367 | Loss G: 1.3509\n"
     ]
    },
    {
     "data": {
      "image/png": "[encoded data removed]",
      "text/plain": [
       "<Figure size 640x480 with 10 Axes>"
      ]
     },
     "metadata": {},
     "output_type": "display_data"
    },
    {
     "name": "stdout",
     "output_type": "stream",
     "text": [
      "Epoch [160/200] | Loss D: 0.9199 | Loss G: 1.3860\n"
     ]
    },
    {
     "data": {
      "image/png": "[encoded data removed]",
      "text/plain": [
       "<Figure size 640x480 with 10 Axes>"
      ]
     },
     "metadata": {},
     "output_type": "display_data"
    },
    {
     "name": "stdout",
     "output_type": "stream",
     "text": [
      "Epoch [180/200] | Loss D: 0.8989 | Loss G: 1.3924\n"
     ]
    },
    {
     "data": {
      "image/png": "[encoded data removed]",
      "text/plain": [
       "<Figure size 640x480 with 10 Axes>"
      ]
     },
     "metadata": {},
     "output_type": "display_data"
    },
    {
     "name": "stdout",
     "output_type": "stream",
     "text": [
      "Epoch [200/200] | Loss D: 0.9167 | Loss G: 1.4009\n"
     ]
    },
    {
     "data": {
      "image/png": "[encoded data removed]",
      "text/plain": [
       "<Figure size 640x480 with 10 Axes>"
      ]
     },
     "metadata": {},
     "output_type": "display_data"
    },
    {
     "data": {
      "image/png": "[encoded data removed]",
      "text/plain": [
       "<Figure size 640x480 with 1 Axes>"
      ]
     },
     "metadata": {},
     "output_type": "display_data"
    }
   ],
   "source": [
    "import torch\n",
    "import torch.nn as nn\n",
    "import torch.optim as optim\n",
    "import matplotlib.pyplot as plt\n",
    "from sklearn.datasets import load_digits\n",
    "from sklearn.model_selection import train_test_split\n",
    "from sklearn.preprocessing import MinMaxScaler\n",
    "from sklearn.metrics import accuracy_score, confusion_matrix\n",
    "import numpy as np\n",
    "\n",
    "# Training parameters\n",
    "EPOCHS = 200\n",
    "DISPLAY_PER_EPOCHS = 20\n",
    "BATCH_SIZE = 32\n",
    "\n",
    "LATENT_DIM = 64\n",
    "HIDDEN_DIM_A = 128\n",
    "HIDDEN_DIM_B = 256\n",
    "\n",
    "IMG_DIM = 64 # (8,8)の画像なので64に固定\n",
    "\n",
    "# Load dataset\n",
    "digits = load_digits()\n",
    "X = digits.data / digits.data.max()  # Normalize pixel values between 0 and 1\n",
    "y = digits.target\n",
    "\n",
    "# Split dataset into training and test sets (80% train, 20% test)\n",
    "X_train, X_test, _, _ = train_test_split(X, y, test_size=0.2, random_state=42)\n",
    "\n",
    "# Normalize data\n",
    "if False:\n",
    "    scaler = MinMaxScaler()\n",
    "    X_train = scaler.fit_transform(X_train)\n",
    "    X_test = scaler.transform(X_test)\n",
    "\n",
    "# Convert to torch tensors\n",
    "X_train = torch.tensor(X_train, dtype=torch.float32)\n",
    "X_test = torch.tensor(X_test, dtype=torch.float32)\n",
    "\n",
    "# Generator model\n",
    "class Generator(nn.Module):\n",
    "    def __init__(self, latent_dim, hidden_dim1, hidden_dim2, img_dim):\n",
    "        super(Generator, self).__init__()\n",
    "        self.fc = nn.Sequential(\n",
    "            nn.Linear(latent_dim, hidden_dim1),\n",
    "            nn.ReLU(),\n",
    "            nn.Linear(hidden_dim1, hidden_dim2),\n",
    "            nn.ReLU(),\n",
    "            nn.Linear(hidden_dim2, img_dim),  # Output size matches the image size (img_dim = 8x8 = 64)\n",
    "            nn.Tanh()  # Assuming image pixel values are normalized between -1 and 1\n",
    "        )\n",
    "\n",
    "    def forward(self, x):\n",
    "        return self.fc(x)\n",
    "\n",
    "class Discriminator(nn.Module):\n",
    "    def __init__(self, img_dim, hidden_dim1, hidden_dim2):\n",
    "        super(Discriminator, self).__init__()\n",
    "        self.fc = nn.Sequential(\n",
    "            nn.Linear(img_dim, hidden_dim1),\n",
    "            nn.ReLU(),\n",
    "            nn.Dropout(0.3),\n",
    "            nn.Linear(hidden_dim1, hidden_dim2),\n",
    "            nn.ReLU(),\n",
    "            nn.Dropout(0.3),\n",
    "            nn.Linear(hidden_dim2, 1),\n",
    "            nn.Sigmoid()\n",
    "        )\n",
    "\n",
    "    def forward(self, x):\n",
    "        return self.fc(x)\n",
    "\n",
    "# Initialize models\n",
    "generator = Generator(latent_dim = LATENT_DIM, img_dim = IMG_DIM, hidden_dim1=HIDDEN_DIM_A, hidden_dim2=HIDDEN_DIM_B)\n",
    "discriminator = Discriminator(img_dim = IMG_DIM, hidden_dim1=HIDDEN_DIM_B, hidden_dim2=HIDDEN_DIM_A)\n",
    "\n",
    "# Loss function and optimizers\n",
    "criterion = nn.BCELoss()\n",
    "optimizer_G = optim.Adam(generator.parameters(), lr=0.001)\n",
    "optimizer_D = optim.Adam(discriminator.parameters(), lr=0.001)\n",
    "\n",
    "# For plotting losses\n",
    "losses_G = []\n",
    "losses_D = []\n",
    "\n",
    "# Training GAN\n",
    "for epoch in range(EPOCHS):\n",
    "    batch_G_loss = []\n",
    "    batch_D_loss = []    \n",
    "    for i in range(0, X_train.size(0), BATCH_SIZE):\n",
    "        real_data = X_train[i:i + BATCH_SIZE]\n",
    "        batch_size_real = real_data.size(0)\n",
    "        \n",
    "        # Labels for real and fake data\n",
    "        valid = torch.ones(batch_size_real, 1)\n",
    "        fake = torch.zeros(batch_size_real, 1)\n",
    "\n",
    "        # Train Discriminator\n",
    "        optimizer_D.zero_grad()\n",
    "\n",
    "        # Generate fake data\n",
    "        noise = torch.randn(batch_size_real, LATENT_DIM)\n",
    "        fake_data = generator(noise)\n",
    "\n",
    "        # Discriminator loss on real and fake data\n",
    "        real_loss = criterion(discriminator(real_data), valid)\n",
    "        fake_loss = criterion(discriminator(fake_data.detach()), fake)\n",
    "        loss_D = real_loss + fake_loss\n",
    "        batch_D_loss.append(loss_D.item())\n",
    "        loss_D.backward()\n",
    "        optimizer_D.step()\n",
    "\n",
    "        # Train Generator\n",
    "        optimizer_G.zero_grad()\n",
    "\n",
    "        # Generator loss (Discriminator should predict that the fake data is real)\n",
    "        loss_G = criterion(discriminator(fake_data), valid)\n",
    "        batch_G_loss.append(loss_G.item())\n",
    "        \n",
    "        loss_G.backward()\n",
    "        optimizer_G.step()\n",
    "\n",
    "    losses_G.append(np.array(batch_G_loss).mean())\n",
    "    losses_D.append(np.array(batch_D_loss).mean())\n",
    "\n",
    "    # Display generated images during training (every 10 epochs)\n",
    "    if (epoch + 1) % DISPLAY_PER_EPOCHS == 0:\n",
    "        print(f'Epoch [{epoch+1}/{EPOCHS}] | Loss D: {losses_D[-1]:.4f} | Loss G: {losses_G[-1]:.4f}')\n",
    "        generated_imgs = fake_data.view(-1, 8, 8).detach().numpy()\n",
    "        for i in range(10):\n",
    "            plt.subplot(1,10, i + 1)\n",
    "            plt.imshow(generated_imgs[i], cmap='gray')\n",
    "            plt.axis('off')\n",
    "        plt.show()\n",
    "\n",
    "# Plot the loss values\n",
    "plt.figure()\n",
    "plt.plot(np.log(losses_G), label='Generator Loss (log scale)')\n",
    "plt.plot(np.log(losses_D), label='Discriminator Loss (log scale)')\n",
    "plt.legend()\n",
    "plt.show()\n"
   ]
  },
  {
   "cell_type": "markdown",
   "id": "97322240-0e93-4062-82ca-f40b2e174086",
   "metadata": {},
   "source": [
    "epochに対してDiscriminatorの損失関数値が増加いますが，\n",
    "Generatorで妥当な文字を学習することを目的とするので，\n",
    "これ以上パラメタ調整しません．\n"
   ]
  },
  {
   "cell_type": "markdown",
   "id": "3277d20d-f4c3-4ebc-8df4-399133f4dbaf",
   "metadata": {},
   "source": [
    "GPT4oにコードの説明をしてもらいます．\n",
    "\n",
    "```prompt\n",
    "プロンプト「\n",
    "GANのコードを{# コード}に付けます。\n",
    "コードに即して説明してください。\n",
    "\n",
    "# コード\n",
    "（コード貼り付け）\n",
    "```"
   ]
  },
  {
   "cell_type": "markdown",
   "id": "a4243763-7572-4e83-a16e-a8fdb422140e",
   "metadata": {},
   "source": [
    "---（回答）---\n",
    "\n",
    "このコードは、GAN（Generative Adversarial Network）を使用して、手書き数字データセット（ここでは、`load_digits`を使い、8x8の画像）を学習し、画像を生成する基本的なモデルを構築しています。以下、コードの主要な部分とその役割を説明します。\n",
    "\n",
    "### 1. データセットの準備\n",
    "```python\n",
    "digits = load_digits()\n",
    "X = digits.data / digits.data.max()\n",
    "y = digits.target\n",
    "X_train, X_test, _, _ = train_test_split(X, y, test_size=0.2, random_state=42)\n",
    "X_train = torch.tensor(X_train, dtype=torch.float32)\n",
    "X_test = torch.tensor(X_test, dtype=torch.float32)\n",
    "```\n",
    "- `load_digits()`によって、デジタル化された手書き数字のデータセットを読み込みます。\n",
    "- 各画素の値を0から1に正規化します。\n",
    "- 訓練データとテストデータに分割し、PyTorchのテンソルに変換します。\n",
    "\n",
    "### 2. モデルの定義\n",
    "\n",
    "#### ジェネレーター (Generator)\n",
    "```python\n",
    "class Generator(nn.Module):\n",
    "    # 初期化メソッドはジェネレーターのネットワークを定義しています。\n",
    "    def __init__(self, latent_dim, hidden_dim1, hidden_dim2, img_dim):\n",
    "        ...\n",
    "        self.fc = nn.Sequential(\n",
    "            nn.Linear(latent_dim, hidden_dim1),\n",
    "            nn.ReLU(),\n",
    "            nn.Linear(hidden_dim1, hidden_dim2),\n",
    "            nn.ReLU(),\n",
    "            nn.Linear(hidden_dim2, img_dim),\n",
    "            nn.Tanh()\n",
    "        )\n",
    "\n",
    "    def forward(self, x):\n",
    "        return self.fc(x)\n",
    "```\n",
    "- ジェネレーターは、ランダムノイズ（`latent_dim = 64`）を入力として受け取り、8x8の画像（`img_dim = 64`）を生成します。\n",
    "- 活性化関数に`ReLU`と`Tanh`を使用します。`Tanh`は出力を[-1, 1]の範囲に収めるために使用しています。\n",
    "\n",
    "#### ディスクリミネーター (Discriminator)\n",
    "```python\n",
    "class Discriminator(nn.Module):\n",
    "    # 初期化メソッドはディスクリミネーターのネットワークを定義しています。\n",
    "    def __init__(self, img_dim, hidden_dim1, hidden_dim2):\n",
    "        ...\n",
    "        self.fc = nn.Sequential(\n",
    "            nn.Linear(img_dim, hidden_dim1),\n",
    "            nn.ReLU(),\n",
    "            nn.Dropout(0.3),\n",
    "            nn.Linear(hidden_dim1, hidden_dim2),\n",
    "            nn.ReLU(),\n",
    "            nn.Dropout(0.3),\n",
    "            nn.Linear(hidden_dim2, 1),\n",
    "            nn.Sigmoid()\n",
    "        )\n",
    "\n",
    "    def forward(self, x):\n",
    "        return self.fc(x)\n",
    "```\n",
    "- ディスクリミネーターは8x8の画像を入力として受け取り、その画像が本物か偽物かを判断します。\n",
    "- 出力層で`Sigmoid`を使用し、[0, 1]の範囲の真偽判別の確率を出力します。\n",
    "\n",
    "### 3. 訓練プロセス\n",
    "```python\n",
    "# 損失関数とオプティマイザーを定義\n",
    "criterion = nn.BCELoss()\n",
    "optimizer_G = optim.Adam(generator.parameters(), lr=0.001)\n",
    "optimizer_D = optim.Adam(discriminator.parameters(), lr=0.001)\n",
    "\n",
    "for epoch in range(EPOCHS):\n",
    "    for i in range(0, X_train.size(0), BATCH_SIZE):\n",
    "        ...\n",
    "        # ディスクリミネーターのトレーニング\n",
    "        optimizer_D.zero_grad()\n",
    "        ...\n",
    "        loss_D.backward()\n",
    "        optimizer_D.step()\n",
    "\n",
    "        # ジェネレーターのトレーニング\n",
    "        optimizer_G.zero_grad()\n",
    "        ...\n",
    "        loss_G.backward()\n",
    "        optimizer_G.step()\n",
    "\n",
    "    # 進捗の表示と生成された画像の表示\n",
    "    if (epoch + 1) % DISPLAY_PER_EPOCHS == 0:\n",
    "        print(f'Epoch [{epoch+1}/{EPOCHS}] | Loss D: {losses_D[-1]:.4f} | Loss G: {losses_G[-1]:.4f}')\n",
    "        ...\n",
    "```\n",
    "- ディスクリミネーターは、本物のデータとジェネレーターによる偽のデータそれぞれに対して損失を計算し、両損失を合算して更新します。\n",
    "- ジェネレーターは生成した偽のデータがディスクリミネーターをだませるように損失を計算、逆伝播を行い更新します。\n",
    "- 任意のエポックごとに、進捗を表示し、生成された画像をプロットします。\n",
    "\n",
    "このコードは、GANの基本的な動作原理とそれに基づく実装を示すものであり、実際に動作させることで、人工的なデータの生成と、それがどのように改善されるかを観察できます。\n",
    "\n",
    "---（回答ここまで）---\n"
   ]
  },
  {
   "cell_type": "markdown",
   "id": "9a124ed1-a0b6-44c7-b989-6971c6652792",
   "metadata": {},
   "source": [
    "残念ながら，ニューラルネットワーク部分の説明がほとんどで，\n",
    "一番大切な損失関数の説明がありません．\n",
    "\n",
    "```prompt\n",
    "プロンプト「\n",
    "{# コード}に対応させて損失関数の説明をしてください。\n",
    "」\n",
    "```\n"
   ]
  },
  {
   "cell_type": "markdown",
   "id": "9993e5d8-a96f-4a66-a668-f65b55f1508a",
   "metadata": {},
   "source": [
    "---（回答）---\n",
    "\n",
    "コード内で使用されている損失関数（`BCELoss`）に対応して、具体的にどのようにディスクリミネーターとジェネレーターの損失が計算されているかを説明します。\n",
    "\n",
    "### ディスクリミネーターの損失\n",
    "\n",
    "ディスクリミネーターは本物のデータとジェネレーターが生成した偽のデータの両方に対して損失を計算しています。\n",
    "\n",
    "```python\n",
    "# 本物データによる損失\n",
    "real_loss = criterion(discriminator(real_data), valid)\n",
    "\n",
    "# 偽データによる損失\n",
    "fake_loss = criterion(discriminator(fake_data.detach()), fake)\n",
    "\n",
    "# ディスクリミネーターの合計損失\n",
    "loss_D = real_loss + fake_loss\n",
    "```\n",
    "\n",
    "1. **real_loss**:\n",
    "   - `discriminator(real_data)` は本物のデータに対するディスクリミネーターの出力を示します。\n",
    "   - `valid` は全て1のラベルで、本物データに割り当てられています。\n",
    "   - これにより、ディスクリミネーターが本物データを正しく「本物」と分類する損失を計算します。\n",
    "\n",
    "2. **fake_loss**:\n",
    "   - `discriminator(fake_data.detach())` は、ジェネレーターが生成した偽データに対するディスクリミネーターの出力を示しています。`.detach()`を使用することで、逆伝播時にジェネレーターが更新されないようにします。\n",
    "   - `fake` は全て0のラベルで、偽データに割り当てられています。\n",
    "   - これにより、ディスクリミネーターが偽データを「偽物」と正しく分類する損失を計算します。\n",
    "\n",
    "3. **損失の和**:\n",
    "   - `loss_D` は、ディスクリミネーターの総合的な誤差を示し、これを最小化することで、より正確に本物と偽物を区別できるようにします。\n",
    "\n",
    "### ジェネレーターの損失\n",
    "\n",
    "ジェネレーターは、ディスクリミネーターをだまして、生成データが本物であると判定されることを目的としています。\n",
    "\n",
    "```python\n",
    "# ジェネレーターの損失\n",
    "loss_G = criterion(discriminator(fake_data), valid)\n",
    "```\n",
    "\n",
    "- **loss_G**:\n",
    "  - `discriminator(fake_data)` は、ジェネレーターによって生成された偽データに対するディスクリミネーターの出力です。\n",
    "  - `valid` は全て1のラベルで、ディスクリミネーターに「偽データを本物だと思わせる」ように設定されています。\n",
    "  - したがって、この損失が小さくなるほど、ジェネレーターはディスクリミネーターを成功裏にだましていることになります。\n",
    "\n",
    "### まとめ\n",
    "\n",
    "- 継続的な訓練で、**ディスクリミネーター**は本物と偽物を区別する能力を高め、**ジェネレーター**はより品質の高い偽物を作成し、ディスクリミネーターをだます技術を向上させるために学習します。\n",
    "- このプロセスは両者が互いに競い合う形で進行し、GANの学習が進むにしたがって、生成されたデータがより本物に近づいていきます。\n",
    "\n",
    "---（回答ここまで）---\n",
    "\n",
    "\n",
    "BCE lossが初出なので質問すると\n",
    "\n",
    "---（回答）---\n",
    "\n",
    "BCEはBinary Cross Entropyの略であること．\n",
    "\n",
    "torchのdefault parameterのBCE lossは真のラベルベクトル$ \\mathbf{y} $ と予測確率ベクトル$ \\mathbf{p} $ を用いて\n",
    "$$\n",
    "\\text{BCE Loss}(\\mathbf{p}, \\mathbf{y}) = - \\frac{1}{N} \\sum_{i=1}^N \\left[ y_i \\log(p_i) + (1 - y_i) \\log(1 - p_i) \\right] \n",
    "$$\n",
    "で与えられる．\n",
    "\n",
    "---（回答ここまで）---\n",
    "\n",
    "\n",
    "torchのBCE Lossについてはスクリプト8100.9000.BCE_loss.ipynbを参照．\n"
   ]
  },
  {
   "cell_type": "markdown",
   "id": "fb17dd99-801f-478f-940d-5bf7d9fc100d",
   "metadata": {},
   "source": [
    "\n",
    "\n",
    "```prompt\n",
    "プロンプト「\n",
    "下を説明してください。validはスカラですか、ベクトルですか？\n",
    "\n",
    "        valid = torch.ones(batch_size_real, 1)\n",
    "        fake = torch.zeros(batch_size_real, 1)\n",
    "」\n",
    "\n",
    "---（回答）---\n",
    "\n",
    "`valid` と `fake` はスカラーではなく、**ベクトル**です。具体的には、それぞれ1列のテンソルとして表現されています。\n",
    "\n",
    "### 具体的な説明\n",
    "\n",
    "```python\n",
    "valid = torch.ones(batch_size_real, 1)\n",
    "fake = torch.zeros(batch_size_real, 1)\n",
    "```\n",
    "\n",
    "- **サイズ `(batch_size_real, 1)`**:\n",
    "  - `batch_size_real` は現在のミニバッチのサイズを表します。これにより、`valid` と `fake` はそれぞれバッチサイズの数だけ要素を持つ1列のベクトル（2次元のテンソル）となります。\n",
    "  - このサイズ設定により、バッチ内の各データ項目に対して1つの値（`1` または `0`）が割り当てられます。\n",
    "\n",
    "- **ベクトルの役割**:\n",
    "  - `valid` は各本物データについて、値が `1` であるようなベクトルです。これは、ディスクリミネーターがそれらのデータを「本物」として分類すべきであることを示します。\n",
    "  - `fake` は各偽データについて、値が `0` であるベクトルです。これは、ディスクリミネーターがそれらのデータを「偽物」として認識すべきであることを示します。\n",
    "\n",
    "このように、`valid` と `fake` は各データサンプルに対するラベル情報を持つベクトルで、損失関数を計算する際にこれが用いられます。それにより、ディスクリミネーターが提供されたデータを正しく分類できるよう、トレーニング中に誤差がフィードバックされます。\n",
    "\n",
    "---（回答ここまで）---\n"
   ]
  },
  {
   "cell_type": "markdown",
   "id": "86db056c-783f-4b14-80d6-fdde5d674fac",
   "metadata": {},
   "source": [
    "わかりにくい説明です．（プロンプトのせいです．）\n",
    "\n",
    "- valid は(batch_size_real,1)の配列サイズで要素が全て１．\n",
    "- fakeは(batch_size_real,1)の配列サイズで要素が全て0．\n",
    "\n",
    "\n",
    "二つ目の要素の長さが１なのはTrue(1)/False(0)の問題であるからです．\n"
   ]
  },
  {
   "cell_type": "markdown",
   "id": "dcc554a5-f82f-4811-8a23-fcee7ed9ad2f",
   "metadata": {},
   "source": [
    "損失関数とコードの対応についてまとめます．\n",
    "\n",
    "![cGANの概念図．数式との対応を加えた．](image_keep/cGAN_abstract_formula.png)\n",
    "\n",
    "図：cGANの概念図．数式との対応を加えた．\n",
    "\n",
    "\n",
    "### Discriminator側\n",
    "\n",
    "\n",
    "損失関数： $-\\mathbb{E}_{x \\sim p_{\\text{data}}(x)}[\\log D(x)] - \\mathbb{E}_{z \\sim p_z(z)}[\\log(1 - D(G(z)))]$\n",
    "\n",
    "    \n",
    "#### 1. real\\_loss ####\n",
    "\n",
    "nn.BCELoss(p,y)のy=1として $ -log(D(x)))$を計算．\n",
    "\n",
    "```\n",
    "valid = torch.ones(batch_size_real, 1) \n",
    "real_loss = criterion(discriminator(real_data), valid) $ \n",
    "```\n",
    "\n",
    "#### 2. fake\\_loss ####\n",
    "\n",
    "まず，$ G(z)$を計算．\n",
    "\n",
    "```\n",
    "noise = torch.randn(batch_size_real, LATENT_DIM)\n",
    "fake_data = generator(noise)\n",
    "```\n",
    "\n",
    "nn.BCELoss(p,y)のy=0として$ -log(1-D(G(z)))$を計算．\n",
    "\n",
    "```\n",
    "fake = torch.zeros(batch_size_real, 1)\n",
    "fake_loss = criterion(discriminator(fake_data.detach()), fake)\n",
    "```\n",
    "\n",
    "#### Discriminator全損失関数 ####\n",
    "\n",
    "```\n",
    "loss_D = real_loss + fake_loss\n",
    "```\n",
    "\n",
    "### Generator損失\n",
    "\n",
    "損失関数：$-\\mathbb{E}_{z \\sim p_z(z)}[\\log D(G(z)))]$\n",
    "\n",
    "nn.BCELoss(p,y)のy=1として$ -log(D(G(z)))$を計算．\n",
    "\n",
    "```\n",
    "loss_G = criterion(discriminator(fake_data), valid)\n",
    "```\n",
    "\n"
   ]
  },
  {
   "cell_type": "code",
   "execution_count": null,
   "id": "589cf346-52c0-4f5b-82ff-53936b4233d0",
   "metadata": {},
   "outputs": [],
   "source": []
  }
 ],
 "metadata": {
  "kernelspec": {
   "display_name": "torch",
   "language": "python",
   "name": "torch"
  },
  "language_info": {
   "codemirror_mode": {
    "name": "ipython",
    "version": 3
   },
   "file_extension": ".py",
   "mimetype": "text/x-python",
   "name": "python",
   "nbconvert_exporter": "python",
   "pygments_lexer": "ipython3",
   "version": "3.11.9"
  }
 },
 "nbformat": 4,
 "nbformat_minor": 5
}
